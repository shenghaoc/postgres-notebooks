{
    "metadata": {
        "kernelspec": {
            "name": "SQL",
            "display_name": "SQL",
            "language": "sql"
        },
        "language_info": {
            "name": "sql",
            "version": ""
        },
        "extensions": {
            "azuredatastudio": {
                "version": 1,
                "views": []
            }
        }
    },
    "nbformat_minor": 2,
    "nbformat": 4,
    "cells": [
        {
            "cell_type": "markdown",
            "source": [
                "**2.1 Query 1 (1 Mark):** Find the name of all African countries with a population of more than 100,000,000 people!"
            ],
            "metadata": {
                "azdata_cell_guid": "990d4763-ba2d-4ed0-80a2-54074ee8a89a"
            }
        },
        {
            "cell_type": "code",
            "source": [
                "CREATE OR REPLACE VIEW q1 (country_name) AS\n",
                "SELECT DISTINCT name\n",
                "FROM countries\n",
                "WHERE continent = 'Africa'\n",
                "  AND population > 100000000;"
            ],
            "metadata": {
                "azdata_cell_guid": "8efecebd-6f1a-4e86-b8d9-6d25dd34b146"
            },
            "outputs": [],
            "execution_count": null
        },
        {
            "cell_type": "code",
            "source": [
                "SELECT * FROM q1;"
            ],
            "metadata": {
                "azdata_cell_guid": "efba9495-4fca-41f8-9001-ba7b66138ea1"
            },
            "outputs": [],
            "execution_count": null
        },
        {
            "cell_type": "markdown",
            "source": [
                "**2.2 Query 2 (2 Marks):** For each continent, find the name of the continent with the corresponding number of countries in that continent which do **NOT** have any airport!"
            ],
            "metadata": {
                "azdata_cell_guid": "b34717ea-0b77-47fd-9fa5-ec54a2bd8ba5",
                "language": ""
            },
            "attachments": {}
        },
        {
            "cell_type": "code",
            "source": [
                "CREATE OR REPLACE VIEW q2 (continent, country_count) AS\n",
                "SELECT DISTINCT continent,\n",
                "       count(continent)\n",
                "FROM countries\n",
                "WHERE iso2 NOT IN\n",
                "        (SELECT DISTINCT country_iso2\n",
                "         FROM airports)\n",
                "GROUP BY (continent);"
            ],
            "metadata": {
                "azdata_cell_guid": "3686f203-e713-417f-a709-223bdf9294d2"
            },
            "outputs": [],
            "execution_count": null
        },
        {
            "cell_type": "code",
            "source": [
                "SELECT * FROM q2;"
            ],
            "metadata": {
                "azdata_cell_guid": "9fc36425-f01f-4b9c-b111-f09c6d266ec1"
            },
            "outputs": [],
            "execution_count": null
        },
        {
            "cell_type": "markdown",
            "source": [
                "**2.3 Query 3 (2 Marks):** Find the name of the top 10 countries with the most land borders and the number of land borders they have!"
            ],
            "metadata": {
                "azdata_cell_guid": "2e98d8cb-2441-40d6-9b18-8787db48f818"
            },
            "attachments": {}
        },
        {
            "cell_type": "code",
            "source": [
                "CREATE OR REPLACE VIEW q3 (country_name, border_count) AS\r\n",
                "SELECT DISTINCT name,\r\n",
                "                COUNT(country2_iso2)\r\n",
                "FROM borders\r\n",
                "JOIN countries ON (country1_iso2 = iso2)\r\n",
                "GROUP BY name\r\n",
                "ORDER BY COUNT(country2_iso2) DESC\r\n",
                "LIMIT 10;"
            ],
            "metadata": {
                "azdata_cell_guid": "7008b2cd-523f-4a89-944d-a743a193d16f",
                "tags": []
            },
            "outputs": [],
            "execution_count": null
        },
        {
            "cell_type": "code",
            "source": [
                "SELECT * FROM q3;"
            ],
            "metadata": {
                "azdata_cell_guid": "ce2a83f9-8dd0-4c62-9004-da73a02f3277"
            },
            "outputs": [],
            "execution_count": null
        },
        {
            "cell_type": "markdown",
            "source": [
                "**2.4 Query 4 (2 Marks):** Find all pairs of name of countries that share a common land border where you can cross from Europe (`country_name1`) into Asia (`country_name2`)! For example Armenia (Europe) shares a land border with Iran (Asia), so ('Armenia', 'Iran') should be in the result."
            ],
            "metadata": {
                "azdata_cell_guid": "1e538e38-4d5a-4b94-b9f6-a8d3da3d460d"
            },
            "attachments": {}
        },
        {
            "cell_type": "code",
            "source": [
                "CREATE OR REPLACE VIEW q4 (country_name1, country_name2) AS\r\n",
                "SELECT DISTINCT country1.name,\r\n",
                "                country2.name\r\n",
                "FROM borders\r\n",
                "JOIN\r\n",
                "    (SELECT name,\r\n",
                "            iso2\r\n",
                "     FROM countries\r\n",
                "     WHERE continent = 'Europe' ) AS country1 ON (country1_iso2 = country1.iso2)\r\n",
                "JOIN\r\n",
                "    (SELECT name,\r\n",
                "            iso2\r\n",
                "     FROM countries\r\n",
                "     WHERE continent = 'Asia') AS country2 ON (country2_iso2 = country2.iso2)"
            ],
            "metadata": {
                "azdata_cell_guid": "43dfac2a-4208-4e18-966d-b99af09b5374",
                "tags": []
            },
            "outputs": [],
            "execution_count": null
        },
        {
            "cell_type": "code",
            "source": [
                "SELECT * FROM q4;"
            ],
            "metadata": {
                "azdata_cell_guid": "fb8423f1-24b6-47a9-9b6b-1fc54327bdd1"
            },
            "outputs": [],
            "execution_count": null
        },
        {
            "cell_type": "markdown",
            "source": [
                "**2.5 Query 5 (3 Marks):** Find the names of all Asian countries to which Singapore Airlines (airline code='SQ') does not fly! For example, Singapore Airlines does not fly to Bhutan. Include the countries that do not have any airport. For example, Palestine does not have an airport, so Palestine should also be in the result."
            ],
            "metadata": {
                "azdata_cell_guid": "c6143d12-9ab4-4123-867d-e76480e77b3e"
            },
            "attachments": {}
        },
        {
            "cell_type": "code",
            "source": [
                "CREATE OR REPLACE VIEW q5 (country_name) AS\r\n",
                "SELECT DISTINCT name\r\n",
                "FROM countries\r\n",
                "WHERE continent = 'Asia'\r\n",
                "    AND name NOT IN\r\n",
                "        (SELECT DISTINCT countries.name\r\n",
                "         FROM routes\r\n",
                "         JOIN airports ON (to_code = code)\r\n",
                "         JOIN countries on (country_iso2 = iso2)\r\n",
                "         WHERE airline_code = 'SQ');"
            ],
            "metadata": {
                "azdata_cell_guid": "defcd80d-802e-40f9-bbe3-f48f9e3d0606",
                "tags": []
            },
            "outputs": [],
            "execution_count": null
        },
        {
            "cell_type": "code",
            "source": [
                "SELECT * FROM q5;"
            ],
            "metadata": {
                "azdata_cell_guid": "28ab8157-c3a1-46f1-b48c-6034fdccf8a4"
            },
            "outputs": [],
            "execution_count": null
        }
    ]
}