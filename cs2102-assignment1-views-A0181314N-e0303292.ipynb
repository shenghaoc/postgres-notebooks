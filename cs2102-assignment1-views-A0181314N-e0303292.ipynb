{
    "metadata": {
        "kernelspec": {
            "name": "SQL",
            "display_name": "SQL",
            "language": "sql"
        },
        "language_info": {
            "name": "sql",
            "version": ""
        },
        "extensions": {
            "azuredatastudio": {
                "version": 1,
                "views": []
            }
        }
    },
    "nbformat_minor": 2,
    "nbformat": 4,
    "cells": [
        {
            "cell_type": "code",
            "source": [
                "------------------------------------------------------------------------\r\n",
                "------------------------------------------------------------------------\r\n",
                "--\r\n",
                "-- CS2102 - ASSIGNMENT 1 (SQL)\r\n",
                "--\r\n",
                "------------------------------------------------------------------------\r\n",
                "------------------------------------------------------------------------\r\n",
                "\r\n",
                "DROP VIEW IF EXISTS student,\r\n",
                "                    v1,\r\n",
                "                    v2,\r\n",
                "                    v3,\r\n",
                "                    v4,\r\n",
                "                    v6,\r\n",
                "                    v7,\r\n",
                "                    v8,\r\n",
                "                    v9,\r\n",
                "                    v10;\r\n",
                "\r\n",
                "------------------------------------------------------------------------\r\n",
                "-- Replace the dummy values without Student ID & NUSNET ID\r\n",
                "------------------------------------------------------------------------\r\n",
                "\r\n",
                "DROP VIEW student;\r\n",
                "\r\n",
                "\r\n",
                "CREATE OR REPLACE VIEW student(student_id, nusnet_id) AS\r\n",
                "SELECT 'A0181314N',\r\n",
                "       'e0303292' ;"
            ],
            "metadata": {
                "azdata_cell_guid": "4ddd2715-6700-4bd3-bdba-1097d048480e"
            },
            "outputs": [
                {
                    "output_type": "display_data",
                    "data": {
                        "text/html": "NOTICE:  view \"student\" does not exist, skipping\nNOTICE:  view \"v1\" does not exist, skipping\nNOTICE:  view \"v2\" does not exist, skipping\nNOTICE:  view \"v3\" does not exist, skipping\nNOTICE:  view \"v4\" does not exist, skipping\nNOTICE:  view \"v6\" does not exist, skipping\nNOTICE:  view \"v7\" does not exist, skipping\nNOTICE:  view \"v8\" does not exist, skipping\nNOTICE:  view \"v9\" does not exist, skipping\nNOTICE:  view \"v10\" does not exist, skipping\n"
                    },
                    "metadata": {}
                },
                {
                    "output_type": "display_data",
                    "data": {
                        "text/html": "Commands completed successfully"
                    },
                    "metadata": {}
                },
                {
                    "output_type": "error",
                    "evalue": "view \"student\" does not exist",
                    "ename": "",
                    "traceback": []
                },
                {
                    "output_type": "display_data",
                    "data": {
                        "text/html": "Total execution time: 00:00:00.001"
                    },
                    "metadata": {}
                }
            ],
            "execution_count": 4
        },
        {
            "cell_type": "code",
            "source": [
                "------------------------------------------------------------------------\r\n",
                "-- Query Q1\r\n",
                "------------------------------------------------------------------------\r\n",
                "\r\n",
                "CREATE OR REPLACE VIEW v1 (city_name) AS\r\n",
                "SELECT DISTINCT name\r\n",
                "from cities\r\n",
                "WHERE capital = 'primary'\r\n",
                "    AND population > 10000000;"
            ],
            "metadata": {
                "azdata_cell_guid": "ec0d7f11-bd47-4e29-864b-d7eff64c4b3b"
            },
            "outputs": [
                {
                    "output_type": "display_data",
                    "data": {
                        "text/html": "Commands completed successfully"
                    },
                    "metadata": {}
                },
                {
                    "output_type": "display_data",
                    "data": {
                        "text/html": "Total execution time: 00:00:00.003"
                    },
                    "metadata": {}
                }
            ],
            "execution_count": 6
        },
        {
            "cell_type": "code",
            "source": [
                "------------------------------------------------------------------------\r\n",
                "-- Query Q2\r\n",
                "------------------------------------------------------------------------\r\n",
                "\r\n",
                "CREATE OR REPLACE VIEW v2 (country_name, capital_count) AS\r\n",
                "SELECT DISTINCT countries.name,\r\n",
                "                COUNT(countries.name)\r\n",
                "FROM countries\r\n",
                "JOIN cities ON iso2=country_iso2\r\n",
                "WHERE capital = 'primary'\r\n",
                "GROUP BY iso2;"
            ],
            "metadata": {
                "azdata_cell_guid": "8de6578a-8304-45ef-8a34-0dafc6c98144"
            },
            "outputs": [
                {
                    "output_type": "display_data",
                    "data": {
                        "text/html": "Commands completed successfully"
                    },
                    "metadata": {}
                },
                {
                    "output_type": "display_data",
                    "data": {
                        "text/html": "Total execution time: 00:00:00.007"
                    },
                    "metadata": {}
                }
            ],
            "execution_count": 7
        },
        {
            "cell_type": "code",
            "source": [
                "------------------------------------------------------------------------\r\n",
                "-- Query Q3\r\n",
                "------------------------------------------------------------------------\r\n",
                "\r\n",
                "CREATE OR REPLACE VIEW v3 (country_name) AS\r\n",
                "SELECT name\r\n",
                "FROM countries\r\n",
                "WHERE GDP / population >\r\n",
                "        (SELECT GDP / population\r\n",
                "         FROM countries\r\n",
                "         WHERE iso2='SG');"
            ],
            "metadata": {
                "azdata_cell_guid": "cc2d3369-1bf1-4cb7-9d36-ee90371b40b0",
                "tags": []
            },
            "outputs": [
                {
                    "output_type": "display_data",
                    "data": {
                        "text/html": "Commands completed successfully"
                    },
                    "metadata": {}
                },
                {
                    "output_type": "display_data",
                    "data": {
                        "text/html": "Total execution time: 00:00:00.002"
                    },
                    "metadata": {}
                }
            ],
            "execution_count": 12
        },
        {
            "cell_type": "code",
            "source": [
                "------------------------------------------------------------------------\r\n",
                "-- Query Q4\r\n",
                "------------------------------------------------------------------------\r\n",
                "\r\n",
                "CREATE OR REPLACE VIEW v4 (country_name) AS\r\n",
                "SELECT DISTINCT name\r\n",
                "FROM countries\r\n",
                "WHERE name NOT IN\r\n",
                "        (SELECT DISTINCT countries.name\r\n",
                "         FROM countries\r\n",
                "         JOIN cities ON iso2=country_iso2\r\n",
                "         where capital <> 'primary' );"
            ],
            "metadata": {
                "azdata_cell_guid": "bfc4c112-ad40-4861-926e-f7ab977954ff"
            },
            "outputs": [
                {
                    "output_type": "display_data",
                    "data": {
                        "text/html": "Commands completed successfully"
                    },
                    "metadata": {}
                },
                {
                    "output_type": "display_data",
                    "data": {
                        "text/html": "Total execution time: 00:00:00.005"
                    },
                    "metadata": {}
                }
            ],
            "execution_count": 13
        },
        {
            "cell_type": "code",
            "source": [
                "------------------------------------------------------------------------\r\n",
                "-- Query 5\r\n",
                "------------------------------------------------------------------------\r\n",
                "\r\n",
                "CREATE OR REPLACE VIEW v5 (country_name, domestic_connections_count) AS\r\n",
                "SELECT DISTINCT countries.name,\r\n",
                "                COUNT(countries.name)\r\n",
                "FROM routes\r\n",
                "JOIN airports a_from on from_code = a_from.code\r\n",
                "JOIN airports a_to on to_code = a_to.code\r\n",
                "JOIN countries ON (a_from.country_iso2 = iso2)\r\n",
                "WHERE a_from.country_iso2=a_to.country_iso2\r\n",
                "GROUP BY countries.name\r\n",
                "HAVING COUNT(countries.name) > 100;"
            ],
            "metadata": {
                "azdata_cell_guid": "66d7a9da-f0dd-465a-82f6-e89a3977debd"
            },
            "outputs": [
                {
                    "output_type": "display_data",
                    "data": {
                        "text/html": "Commands completed successfully"
                    },
                    "metadata": {}
                },
                {
                    "output_type": "display_data",
                    "data": {
                        "text/html": "Total execution time: 00:00:00.007"
                    },
                    "metadata": {}
                }
            ],
            "execution_count": 14
        },
        {
            "cell_type": "code",
            "source": [
                "------------------------------------------------------------------------\r\n",
                "-- Query Q6\r\n",
                "------------------------------------------------------------------------\r\n",
                "\r\n",
                "CREATE OR REPLACE VIEW v6 (country_name1, country_name2) AS\r\n",
                "SELECT DISTINCT c1.name,\r\n",
                "                c2.name\r\n",
                "FROM borders\r\n",
                "JOIN countries c1 ON c1.iso2 = country1_iso2\r\n",
                "JOIN countries c2 ON c2.iso2 = country2_iso2\r\n",
                "WHERE c1.continent = 'Asia'\r\n",
                "    AND c1.continent = c2.continent\r\n",
                "    AND c1.population < c2.population;"
            ],
            "metadata": {
                "azdata_cell_guid": "70ea151e-4e8e-4c92-80ba-bfb0f91b9a22"
            },
            "outputs": [
                {
                    "output_type": "display_data",
                    "data": {
                        "text/html": "Commands completed successfully"
                    },
                    "metadata": {}
                },
                {
                    "output_type": "display_data",
                    "data": {
                        "text/html": "Total execution time: 00:00:00.005"
                    },
                    "metadata": {}
                }
            ],
            "execution_count": 15
        },
        {
            "cell_type": "code",
            "source": [
                "------------------------------------------------------------------------\r\n",
                "-- Query Q7\r\n",
                "------------------------------------------------------------------------\r\n",
                "\r\n",
                "CREATE OR REPLACE VIEW v7 (country_name) AS\r\n",
                "SELECT DISTINCT name\r\n",
                "FROM countries\r\n",
                "WHERE continent = 'Asia'\r\n",
                "    AND name NOT IN\r\n",
                "        (SELECT DISTINCT countries.name\r\n",
                "         FROM users\r\n",
                "         JOIN visited ON users.user_id = visited.user_id\r\n",
                "         JOIN countries ON countries.iso2 = visited.iso2\r\n",
                "         WHERE users.name = ANY (ARRAY['Marie',\r\n",
                "                                       'Bill',\r\n",
                "                                       'Sam',\r\n",
                "                                       'Sarah']));"
            ],
            "metadata": {
                "azdata_cell_guid": "129b23ec-5a9e-4539-94d8-33756ea6fd1b"
            },
            "outputs": [],
            "execution_count": null
        },
        {
            "cell_type": "code",
            "source": [
                "------------------------------------------------------------------------\r\n",
                "-- Query Q8\r\n",
                "------------------------------------------------------------------------\r\n",
                "\r\n",
                "CREATE OR REPLACE VIEW v8 (city_name) AS WITH sqroutes AS\r\n",
                "    (SELECT from_code,\r\n",
                "            to_code\r\n",
                "     FROM routes\r\n",
                "     where airline_code = 'SQ'),\r\n",
                "                       sqeuroutes AS\r\n",
                "    (SELECT DISTINCT sqr1.from_code,\r\n",
                "                     sqr2.to_code\r\n",
                "     FROM sqroutes sqr1\r\n",
                "     JOIN sqroutes sqr2 ON sqr1.to_code = sqr2.from_code\r\n",
                "     JOIN airports ON (sqr1.to_code = code)\r\n",
                "     JOIN countries on (country_iso2 = iso2)\r\n",
                "     where continent = 'Europe'\r\n",
                "         AND sqr1.from_code <> sqr2.to_code)\r\n",
                "SELECT DISTINCT city\r\n",
                "FROM\r\n",
                "    (select *\r\n",
                "     from sqroutes\r\n",
                "     UNION select *\r\n",
                "     from sqeuroutes) as allsqroutes\r\n",
                "JOIN airports ON (allsqroutes.to_code = code)\r\n",
                "where country_iso2 = 'US'\r\n",
                "    AND from_code = 'SIN';"
            ],
            "metadata": {
                "azdata_cell_guid": "56d98ccb-0db8-4d5b-a91a-2b29e32d78fa"
            },
            "outputs": [
                {
                    "output_type": "display_data",
                    "data": {
                        "text/html": "Commands completed successfully"
                    },
                    "metadata": {}
                },
                {
                    "output_type": "display_data",
                    "data": {
                        "text/html": "Total execution time: 00:00:00.003"
                    },
                    "metadata": {}
                }
            ],
            "execution_count": 19
        },
        {
            "cell_type": "code",
            "source": [
                "------------------------------------------------------------------------\r\n",
                "-- Query Q9\r\n",
                "------------------------------------------------------------------------\r\n",
                "\r\n",
                "CREATE OR REPLACE VIEW v9 (country_name, crossing_count) AS ;"
            ],
            "metadata": {
                "azdata_cell_guid": "42f33300-7bef-420a-9f71-3d4401f40a7b"
            },
            "outputs": [],
            "execution_count": null
        },
        {
            "cell_type": "code",
            "source": [
                "------------------------------------------------------------------------\r\n",
                "-- Query Q10\r\n",
                "------------------------------------------------------------------------\r\n",
                "\r\n",
                "CREATE OR REPLACE VIEW v10 (airport_name) AS\r\n",
                "\r\n",
                ";"
            ],
            "metadata": {
                "azdata_cell_guid": "1b34a27a-d2df-4afd-81d9-0830a4547d4a"
            },
            "outputs": [],
            "execution_count": null
        }
    ]
}